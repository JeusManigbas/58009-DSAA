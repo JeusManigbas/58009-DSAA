{
  "nbformat": 4,
  "nbformat_minor": 0,
  "metadata": {
    "colab": {
      "provenance": [],
      "authorship_tag": "ABX9TyMjRlLDCHBu1epWDXaGkGOD",
      "include_colab_link": true
    },
    "kernelspec": {
      "name": "python3",
      "display_name": "Python 3"
    },
    "language_info": {
      "name": "python"
    }
  },
  "cells": [
    {
      "cell_type": "markdown",
      "metadata": {
        "id": "view-in-github",
        "colab_type": "text"
      },
      "source": [
        "<a href=\"https://colab.research.google.com/github/JeusManigbas/58009-DSAA/blob/main/Practical_Lab_Exam.ipynb\" target=\"_parent\"><img src=\"https://colab.research.google.com/assets/colab-badge.svg\" alt=\"Open In Colab\"/></a>"
      ]
    },
    {
      "cell_type": "code",
      "execution_count": 11,
      "metadata": {
        "id": "q8VLb5n2aH7C",
        "colab": {
          "base_uri": "https://localhost:8080/"
        },
        "outputId": "c4c41d3a-3d92-4d33-fa2f-3b181e249722"
      },
      "outputs": [
        {
          "output_type": "stream",
          "name": "stdout",
          "text": [
            "The sum of the Test scores: 211\n"
          ]
        }
      ],
      "source": [
        "def main():\n",
        "    total_scores = 0\n",
        "    test_scores = [26, 49, 98, 87, 62, 75]\n",
        "\n",
        "    for score in test_scores:\n",
        "        if score % 2 == 1:\n",
        "            total_scores += score\n",
        "\n",
        "print(\"The sum of the Test scores:\", total_scores)"
      ]
    }
  ]
}