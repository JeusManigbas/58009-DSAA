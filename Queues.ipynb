{
  "nbformat": 4,
  "nbformat_minor": 0,
  "metadata": {
    "colab": {
      "provenance": [],
      "authorship_tag": "ABX9TyO4OVHP1lPH38pr8ZPYD4wx",
      "include_colab_link": true
    },
    "kernelspec": {
      "name": "python3",
      "display_name": "Python 3"
    },
    "language_info": {
      "name": "python"
    }
  },
  "cells": [
    {
      "cell_type": "markdown",
      "metadata": {
        "id": "view-in-github",
        "colab_type": "text"
      },
      "source": [
        "<a href=\"https://colab.research.google.com/github/JeusManigbas/58009-DSAA/blob/main/Queues.ipynb\" target=\"_parent\"><img src=\"https://colab.research.google.com/assets/colab-badge.svg\" alt=\"Open In Colab\"/></a>"
      ]
    },
    {
      "cell_type": "code",
      "source": [
        "queue = []\n",
        "queue.append(\"A\")\n",
        "queue.append(\"B\")\n",
        "queue.append(\"C\")\n",
        "print(queue)\n",
        "\n",
        "print(queue.pop(0))\n",
        "print(queue.pop(0))\n",
        "print(queue.pop(0))\n",
        "print(queue)"
      ],
      "metadata": {
        "colab": {
          "base_uri": "https://localhost:8080/"
        },
        "id": "ujo6vgkKjIzT",
        "outputId": "5777b79a-30be-4238-a15d-d712d143d480"
      },
      "execution_count": 10,
      "outputs": [
        {
          "output_type": "stream",
          "name": "stdout",
          "text": [
            "['A', 'B', 'C']\n",
            "A\n",
            "B\n",
            "C\n",
            "[]\n"
          ]
        }
      ]
    },
    {
      "cell_type": "markdown",
      "source": [
        "ACTIVITY 4"
      ],
      "metadata": {
        "id": "9TvMqTQooiet"
      }
    },
    {
      "cell_type": "code",
      "source": [
        "order_queue = []\n",
        "\n",
        "def place_order(order, customer_name, order_details):\n",
        "    order_data = {\"Customer\": customer_name, \"Order\": order_details}\n",
        "    order_queue.append(order_data)\n",
        "\n",
        "def process_orders():\n",
        "    while order_queue:\n",
        "        order = order_queue.pop(0)\n",
        "        print(f\"Processing order for {order['Customer']}: {order['Order']}\")\n",
        "\n",
        "while True:\n",
        "    customer_name = input(\"Enter customer name (or 'quit' to exit): \")\n",
        "    if customer_name.lower() == 'quit':\n",
        "        break\n",
        "\n",
        "    order_details = input(\"Enter order: \")\n",
        "    place_order(order_queue, customer_name, order_details)\n",
        "\n",
        "print(\"\\nStarting order processing...\")\n",
        "process_orders()\n",
        "print(\"Order processing complete.\")"
      ],
      "metadata": {
        "colab": {
          "base_uri": "https://localhost:8080/"
        },
        "id": "ydSePisuxVUZ",
        "outputId": "2079cc90-ac8d-4045-9c68-56754eaae599"
      },
      "execution_count": 42,
      "outputs": [
        {
          "output_type": "stream",
          "name": "stdout",
          "text": [
            "Enter customer name (or 'quit' to exit): Jeus\n",
            "Enter order: Pizza\n",
            "Enter customer name (or 'quit' to exit): Miguel\n",
            "Enter order: Burger\n",
            "Enter customer name (or 'quit' to exit): Manigbas\n",
            "Enter order: Salad\n",
            "Enter customer name (or 'quit' to exit): quit\n",
            "\n",
            "Starting order processing...\n",
            "Processing order for Jeus: Pizza\n",
            "Processing order for Miguel: Burger\n",
            "Processing order for Manigbas: Salad\n",
            "Order processing complete.\n"
          ]
        }
      ]
    }
  ]
}