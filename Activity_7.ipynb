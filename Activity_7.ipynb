{
  "nbformat": 4,
  "nbformat_minor": 0,
  "metadata": {
    "colab": {
      "provenance": [],
      "authorship_tag": "ABX9TyMHqTQRhlXQ3rTSRT/+6KvA",
      "include_colab_link": true
    },
    "kernelspec": {
      "name": "python3",
      "display_name": "Python 3"
    },
    "language_info": {
      "name": "python"
    }
  },
  "cells": [
    {
      "cell_type": "markdown",
      "metadata": {
        "id": "view-in-github",
        "colab_type": "text"
      },
      "source": [
        "<a href=\"https://colab.research.google.com/github/JeusManigbas/58009-DSAA/blob/main/Activity_7.ipynb\" target=\"_parent\"><img src=\"https://colab.research.google.com/assets/colab-badge.svg\" alt=\"Open In Colab\"/></a>"
      ]
    },
    {
      "cell_type": "code",
      "source": [
        "# Display Graph Edges\n",
        "class Graph:\n",
        "    def __init__(self, gdict=None):\n",
        "        if gdict is None:\n",
        "            gdict = {}\n",
        "        self.gdict = gdict\n",
        "\n",
        "    def edges(self):\n",
        "        return self.find_edges()\n",
        "\n",
        "    # Find the distinct list of edges\n",
        "    def find_edges(self):\n",
        "        edge_list = []\n",
        "        for vertex in self.gdict:\n",
        "            for next_vertex in self.gdict[vertex]:\n",
        "                if {next_vertex, vertex} not in edge_list:\n",
        "                    edge_list.append({vertex, next_vertex})\n",
        "        return edge_list\n",
        "\n",
        "# Create the dictionary with graph elements\n",
        "graph_elements = {\n",
        "    \"a\": [\"b\", \"c\"],\n",
        "    \"b\": [\"a\", \"d\"],\n",
        "    \"c\": [\"a\", \"d\"],\n",
        "    \"d\": [\"e\"],\n",
        "    \"e\": [\"d\"]\n",
        "}\n",
        "\n",
        "g = Graph(graph_elements)\n",
        "print(g.edges())\n"
      ],
      "metadata": {
        "colab": {
          "base_uri": "https://localhost:8080/"
        },
        "id": "dxcOgITpMG5z",
        "outputId": "1e379e5a-4c05-446e-da8c-d99ebf50b207"
      },
      "execution_count": 2,
      "outputs": [
        {
          "output_type": "stream",
          "name": "stdout",
          "text": [
            "[{'a', 'b'}, {'c', 'a'}, {'d', 'b'}, {'d', 'c'}, {'d', 'e'}]\n"
          ]
        }
      ]
    },
    {
      "cell_type": "code",
      "source": [
        "#Display Graph Edges\n",
        "\n",
        "class graph:\n",
        "   def __init__(self,gdict=None):\n",
        "      if gdict is None:\n",
        "         gdict = {}\n",
        "      self.gdict = gdict\n",
        "\n",
        "   def edges(self):\n",
        "      return self.findedges()\n",
        "# Find the distinct list of edges\n",
        "   def findedges(self):\n",
        "      edgename = []\n",
        "      for vrtx in self.gdict:\n",
        "         for nxtvrtx in self.gdict[vrtx]:\n",
        "            if {nxtvrtx, vrtx} not in edgename:\n",
        "               edgename.append({vrtx, nxtvrtx})\n",
        "      return edgename\n",
        "# Create the dictionary with graph elements\n",
        "graph_elements = {\n",
        "   \"1\" : [2, 3, 5, 6],\n",
        "   \"2\" : [1, 3, 5, 4, 6],\n",
        "   \"3\" : [1, 2, 4, 5],\n",
        "   \"4\" : [2, 3],\n",
        "   \"5\" : [1, 2, 3],\n",
        "   \"6\" : [1, 2]\n",
        "}\n",
        "g = graph(graph_elements)\n",
        "print(g.edges())"
      ],
      "metadata": {
        "colab": {
          "base_uri": "https://localhost:8080/"
        },
        "id": "YOdItRR0RDwp",
        "outputId": "d9c99ed2-7c81-4148-effb-19cb7445464c"
      },
      "execution_count": 3,
      "outputs": [
        {
          "output_type": "stream",
          "name": "stdout",
          "text": [
            "[{2, '1'}, {3, '1'}, {5, '1'}, {'1', 6}, {1, '2'}, {'2', 3}, {'2', 5}, {'2', 4}, {'2', 6}, {'3', 1}, {'3', 2}, {'3', 4}, {'3', 5}, {2, '4'}, {3, '4'}, {1, '5'}, {2, '5'}, {3, '5'}, {'6', 1}, {'6', 2}]\n"
          ]
        }
      ]
    },
    {
      "cell_type": "code",
      "source": [
        "#Display Graph Edges\n",
        "\n",
        "class graph:\n",
        "   def __init__(self,gdict=None):\n",
        "      if gdict is None:\n",
        "         gdict = {}\n",
        "      self.gdict = gdict\n",
        "\n",
        "   def edges(self):\n",
        "      return self.findedges()\n",
        "# Find the distinct list of edges\n",
        "   def findedges(self):\n",
        "      edgename = []\n",
        "      for vrtx in self.gdict:\n",
        "         for nxtvrtx in self.gdict[vrtx]:\n",
        "            if {nxtvrtx, vrtx} not in edgename:\n",
        "               edgename.append({vrtx, nxtvrtx})\n",
        "      return edgename\n",
        "# Create the dictionary with graph elements\n",
        "graph_elements = {\n",
        "   \"1\" : [2, 3, 5, 6],\n",
        "   \"2\" : [1, 3, 5, 4, 6],\n",
        "   \"3\" : [1, 2, 4, 5],\n",
        "   \"4\" : [2, 3],\n",
        "   \"5\" : [1, 2, 3],\n",
        "   \"6\" : [1, 2]\n",
        "}\n",
        "g = graph(graph_elements)\n",
        "print(g.edges())\n",
        "print(\"Length:\", len(g.edges()))"
      ],
      "metadata": {
        "colab": {
          "base_uri": "https://localhost:8080/"
        },
        "id": "v60zrJ3bXXIR",
        "outputId": "2bce9766-a081-44f2-d140-eebda2ef2bf6"
      },
      "execution_count": 6,
      "outputs": [
        {
          "output_type": "stream",
          "name": "stdout",
          "text": [
            "[{2, '1'}, {3, '1'}, {5, '1'}, {'1', 6}, {1, '2'}, {'2', 3}, {'2', 5}, {'2', 4}, {'2', 6}, {'3', 1}, {'3', 2}, {'3', 4}, {'3', 5}, {2, '4'}, {3, '4'}, {1, '5'}, {2, '5'}, {3, '5'}, {'6', 1}, {'6', 2}]\n",
            "Length: 20\n"
          ]
        }
      ]
    },
    {
      "cell_type": "code",
      "source": [
        "#Display Graph Vertices\n",
        "\n",
        "class graph:\n",
        "   def __init__(self,gdict=None):\n",
        "      if gdict is None:\n",
        "         gdict = []\n",
        "      self.gdict = gdict\n",
        "# Get the keys of the dictionary\n",
        "   def getVertices(self):\n",
        "      return list(self.gdict.keys())\n",
        "# Create the dictionary with graph elements\n",
        "graph_elements = {\n",
        "   \"a\" : [\"b\",\"c\"],\n",
        "   \"b\" : [\"a\", \"d\"],\n",
        "   \"c\" : [\"a\", \"d\"],\n",
        "   \"d\" : [\"e\"],\n",
        "   \"e\" : [\"d\"]\n",
        "}\n",
        "g = graph(graph_elements)\n",
        "print(g.getVertices())\n",
        "print(\"Length:\", len(g.getVertices()))"
      ],
      "metadata": {
        "colab": {
          "base_uri": "https://localhost:8080/"
        },
        "id": "zNSDQFaPX-Kk",
        "outputId": "5a018abe-37b6-4406-835f-6c8c123efee1"
      },
      "execution_count": 16,
      "outputs": [
        {
          "output_type": "stream",
          "name": "stdout",
          "text": [
            "['a', 'b', 'c', 'd', 'e']\n",
            "Length: 5\n"
          ]
        }
      ]
    }
  ]
}