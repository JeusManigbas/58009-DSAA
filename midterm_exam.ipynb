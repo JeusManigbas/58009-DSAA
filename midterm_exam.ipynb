{
  "nbformat": 4,
  "nbformat_minor": 0,
  "metadata": {
    "colab": {
      "provenance": [],
      "authorship_tag": "ABX9TyMgymHEqrxF9Nqqa6woFO01",
      "include_colab_link": true
    },
    "kernelspec": {
      "name": "python3",
      "display_name": "Python 3"
    },
    "language_info": {
      "name": "python"
    }
  },
  "cells": [
    {
      "cell_type": "markdown",
      "metadata": {
        "id": "view-in-github",
        "colab_type": "text"
      },
      "source": [
        "<a href=\"https://colab.research.google.com/github/JeusManigbas/58009-DSAA/blob/main/midterm_exam.ipynb\" target=\"_parent\"><img src=\"https://colab.research.google.com/assets/colab-badge.svg\" alt=\"Open In Colab\"/></a>"
      ]
    },
    {
      "cell_type": "code",
      "source": [
        "class Graph:\n",
        "    def __init__(self):\n",
        "        self.graph = {}\n",
        "\n",
        "    def add_vertex(self, vertex):\n",
        "        if vertex not in self.graph:\n",
        "            self.graph[vertex] = []\n",
        "\n",
        "    def add_edge(self, vertex1, vertex2):\n",
        "        if vertex1 in self.graph and vertex2 in self.graph:\n",
        "            self.graph[vertex1].append(vertex2)\n",
        "            self.graph[vertex2].append(vertex1)  # For an undirected graph\n",
        "\n",
        "    def get_vertices(self):\n",
        "        return list(self.graph.keys())\n",
        "\n",
        "    def get_edges(self):\n",
        "        edges = [(vertex, neighbor) for vertex, neighbors in self.graph.items() for neighbor in neighbors]\n",
        "        return edges\n",
        "\n",
        "    def display_graph(self):\n",
        "        print(\"Vertices:\", self.get_vertices())\n",
        "        print(\"Edges:\", self.get_edges())\n",
        "\n",
        "if __name__ == \"__main__\":\n",
        "    g = Graph()\n",
        "\n",
        "    vertices = [\"A\", \"B\", \"E\", \"F\", \"K\", \"M\", \"N\", \"P\"]\n",
        "    for vertex in vertices:\n",
        "        g.add_vertex(vertex)\n",
        "\n",
        "    g.add_edge(\"A\", \"B\")\n",
        "    g.add_edge(\"A\", \"E\")\n",
        "    g.add_edge(\"B\", \"F\")\n",
        "    g.add_edge(\"E\", \"F\")\n",
        "    g.add_edge(\"E\", \"M\")\n",
        "    g.add_edge(\"F\", \"M\")\n",
        "    g.add_edge(\"F\", \"P\")\n",
        "    g.add_edge(\"M\", \"K\")\n",
        "    g.add_edge(\"M\", \"P\")\n",
        "    g.add_edge(\"P\", \"N\")\n",
        "    g.add_edge(\"N\", \"K\")\n",
        "    g.add_edge(\"N\", \"K\")\n",
        "    g.add_edge(\"K\", \"A\")\n",
        "\n",
        "    g.display_graph()\n"
      ],
      "metadata": {
        "colab": {
          "base_uri": "https://localhost:8080/"
        },
        "id": "WvqaCvHlbdXE",
        "outputId": "1c363dcf-377b-427a-9cf7-1717b8465b0d"
      },
      "execution_count": 10,
      "outputs": [
        {
          "output_type": "stream",
          "name": "stdout",
          "text": [
            "Vertices: ['A', 'B', 'E', 'F', 'K', 'M', 'N', 'P']\n",
            "Edges: [('A', 'B'), ('A', 'E'), ('A', 'K'), ('B', 'A'), ('B', 'F'), ('E', 'A'), ('E', 'F'), ('E', 'M'), ('F', 'B'), ('F', 'E'), ('F', 'M'), ('F', 'P'), ('K', 'M'), ('K', 'N'), ('K', 'N'), ('K', 'A'), ('M', 'E'), ('M', 'F'), ('M', 'K'), ('M', 'P'), ('N', 'P'), ('N', 'K'), ('N', 'K'), ('P', 'F'), ('P', 'M'), ('P', 'N')]\n"
          ]
        }
      ]
    }
  ]
}