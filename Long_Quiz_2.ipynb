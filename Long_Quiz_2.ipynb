{
  "nbformat": 4,
  "nbformat_minor": 0,
  "metadata": {
    "colab": {
      "provenance": [],
      "authorship_tag": "ABX9TyP07o4r/5cFdewhHixts1XF",
      "include_colab_link": true
    },
    "kernelspec": {
      "name": "python3",
      "display_name": "Python 3"
    },
    "language_info": {
      "name": "python"
    }
  },
  "cells": [
    {
      "cell_type": "markdown",
      "metadata": {
        "id": "view-in-github",
        "colab_type": "text"
      },
      "source": [
        "<a href=\"https://colab.research.google.com/github/JeusManigbas/58009-DSAA/blob/main/Long_Quiz_2.ipynb\" target=\"_parent\"><img src=\"https://colab.research.google.com/assets/colab-badge.svg\" alt=\"Open In Colab\"/></a>"
      ]
    },
    {
      "cell_type": "code",
      "source": [
        "class Graph:\n",
        "    def __init__(self, gdict = None):\n",
        "        if gdict is None:\n",
        "            gdict = {}\n",
        "        self.gdict = gdict\n",
        "\n",
        "    def edges(self):\n",
        "        return self.find_edges()\n",
        "\n",
        "    def find_edges(self):\n",
        "        edgename = []\n",
        "        for vrtx in self.gdict:\n",
        "            for nxtvrtx in self.gdict[vrtx]:\n",
        "                if {nxtvrtx, vrtx} not in edgename:\n",
        "                    edgename.append({vrtx, nxtvrtx})\n",
        "        return edgename\n",
        "\n",
        "graph_elements = {\n",
        "    'H': ['I', 'J', 'K'],\n",
        "    'J': ['E', 'F', 'H'],\n",
        "    'I': ['E', 'F', 'H'],\n",
        "    'F': ['J', 'K', 'P', 'I'],\n",
        "    'K': ['E', 'H', 'F'],\n",
        "    'E': ['I', 'M', 'K', 'J'],\n",
        "    'P': ['F'],\n",
        "    'M': ['E'],\n",
        "}\n",
        "g = Graph(graph_elements)\n",
        "print(g.edges())\n"
      ],
      "metadata": {
        "colab": {
          "base_uri": "https://localhost:8080/"
        },
        "id": "L9EZ2DUMorXJ",
        "outputId": "2569985a-2d5a-41ca-9bb4-b8a1885a0731"
      },
      "execution_count": 18,
      "outputs": [
        {
          "output_type": "stream",
          "name": "stdout",
          "text": [
            "[{'H', 'I'}, {'J', 'H'}, {'H', 'K'}, {'E', 'J'}, {'F', 'J'}, {'E', 'I'}, {'F', 'I'}, {'F', 'K'}, {'P', 'F'}, {'E', 'K'}, {'E', 'M'}]\n"
          ]
        }
      ]
    },
    {
      "cell_type": "code",
      "source": [
        "class graph:\n",
        "   def __init__(self,gdict=None):\n",
        "      if gdict is None:\n",
        "         gdict = []\n",
        "      self.gdict = gdict\n",
        "   def getVertices(self):\n",
        "      return list(self.gdict.keys())\n",
        "\n",
        "graph_elements = {\n",
        "    'H': ['I', 'J', 'K'],\n",
        "    'J': ['E', 'F', 'H'],\n",
        "    'I': ['E', 'F', 'H'],\n",
        "    'F': ['J', 'K', 'P', 'I'],\n",
        "    'K': ['E', 'H', 'F'],\n",
        "    'E': ['I', 'M', 'K', 'J'],\n",
        "    'P': ['F'],\n",
        "    'M': ['E'],\n",
        "}\n",
        "g = graph(graph_elements)\n",
        "print(g.getVertices())"
      ],
      "metadata": {
        "colab": {
          "base_uri": "https://localhost:8080/"
        },
        "id": "8XemYd16v2ay",
        "outputId": "981114f9-0d2b-48a4-a9e1-6c8e4cca1ede"
      },
      "execution_count": 19,
      "outputs": [
        {
          "output_type": "stream",
          "name": "stdout",
          "text": [
            "['H', 'J', 'I', 'F', 'K', 'E', 'P', 'M']\n"
          ]
        }
      ]
    }
  ]
}