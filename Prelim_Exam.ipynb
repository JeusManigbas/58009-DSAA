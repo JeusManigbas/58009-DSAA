{
  "nbformat": 4,
  "nbformat_minor": 0,
  "metadata": {
    "colab": {
      "provenance": [],
      "authorship_tag": "ABX9TyOUxtcFT4nmTko6rED7VqUH",
      "include_colab_link": true
    },
    "kernelspec": {
      "name": "python3",
      "display_name": "Python 3"
    },
    "language_info": {
      "name": "python"
    }
  },
  "cells": [
    {
      "cell_type": "markdown",
      "metadata": {
        "id": "view-in-github",
        "colab_type": "text"
      },
      "source": [
        "<a href=\"https://colab.research.google.com/github/JeusManigbas/58009-DSAA/blob/main/Prelim_Exam.ipynb\" target=\"_parent\"><img src=\"https://colab.research.google.com/assets/colab-badge.svg\" alt=\"Open In Colab\"/></a>"
      ]
    },
    {
      "cell_type": "markdown",
      "source": [
        " Create the source code for adding the test scores 26, 49, 98, 87, 62, 75. Create a program to sort the test scores in ascending order"
      ],
      "metadata": {
        "id": "2ejf7fV46PmJ"
      }
    },
    {
      "cell_type": "code",
      "source": [
        "test_scores = [26, 49, 98, 87, 62, 75]\n",
        "\n",
        "total_score = sum(test_scores) #Summation of test scores.\n",
        "\n",
        "print(\"Total Score:\", total_score)\n",
        "\n",
        "test_scores.sort() #Sorting ascending order of test scores.\n",
        "\n",
        "print(\"Test Scores:\")\n",
        "for score in test_scores:\n",
        "    print(score)"
      ],
      "metadata": {
        "colab": {
          "base_uri": "https://localhost:8080/"
        },
        "id": "9t-IsM5D6PKp",
        "outputId": "38e9793e-96a3-4907-b183-e4245da311bf"
      },
      "execution_count": 8,
      "outputs": [
        {
          "output_type": "stream",
          "name": "stdout",
          "text": [
            "Total Score: 397\n",
            "Test Scores:\n",
            "26\n",
            "49\n",
            "62\n",
            "75\n",
            "87\n",
            "98\n"
          ]
        }
      ]
    }
  ]
}