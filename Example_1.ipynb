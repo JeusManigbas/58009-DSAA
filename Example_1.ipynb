{
  "nbformat": 4,
  "nbformat_minor": 0,
  "metadata": {
    "colab": {
      "provenance": [],
      "authorship_tag": "ABX9TyNVHZsIReX4XvOu3PGur9B7",
      "include_colab_link": true
    },
    "kernelspec": {
      "name": "python3",
      "display_name": "Python 3"
    },
    "language_info": {
      "name": "python"
    }
  },
  "cells": [
    {
      "cell_type": "markdown",
      "metadata": {
        "id": "view-in-github",
        "colab_type": "text"
      },
      "source": [
        "<a href=\"https://colab.research.google.com/github/JeusManigbas/58009-DSAA/blob/main/Example_1.ipynb\" target=\"_parent\"><img src=\"https://colab.research.google.com/assets/colab-badge.svg\" alt=\"Open In Colab\"/></a>"
      ]
    },
    {
      "cell_type": "markdown",
      "source": [
        "Example 1: Solve for the area of a rectangle"
      ],
      "metadata": {
        "id": "hrYG53Utzn2w"
      }
    },
    {
      "cell_type": "code",
      "source": [
        "width = float(input(\"Input the given width of the rectangle: \"))\n",
        "length = float(input(\"Input the given length of the rectangle: \"))\n",
        "\n",
        "area = width * length\n",
        "\n",
        "print(\"The solved area of the rectangle is:\",area)\n"
      ],
      "metadata": {
        "id": "wCOXpsTA1eFp"
      },
      "execution_count": null,
      "outputs": []
    }
  ]
}