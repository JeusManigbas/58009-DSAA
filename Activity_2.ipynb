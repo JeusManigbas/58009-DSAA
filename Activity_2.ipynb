{
  "nbformat": 4,
  "nbformat_minor": 0,
  "metadata": {
    "colab": {
      "provenance": [],
      "authorship_tag": "ABX9TyNGYAnCKCw+iFu3MdgurjR0",
      "include_colab_link": true
    },
    "kernelspec": {
      "name": "python3",
      "display_name": "Python 3"
    },
    "language_info": {
      "name": "python"
    }
  },
  "cells": [
    {
      "cell_type": "markdown",
      "metadata": {
        "id": "view-in-github",
        "colab_type": "text"
      },
      "source": [
        "<a href=\"https://colab.research.google.com/github/JeusManigbas/58009-DSAA/blob/main/Activity_2.ipynb\" target=\"_parent\"><img src=\"https://colab.research.google.com/assets/colab-badge.svg\" alt=\"Open In Colab\"/></a>"
      ]
    },
    {
      "cell_type": "code",
      "source": [
        "class Node:\n",
        "    def __init__(self, value):\n",
        "        self.value = value\n",
        "        self.next_node = None\n",
        "\n",
        "class LinkedList:\n",
        "    def __init__(self):\n",
        "        self.first_node = None\n",
        "        self.last_node = None\n",
        "\n",
        "    def add_node(self, value):\n",
        "        new_node = Node(value)\n",
        "        if not self.first_node:\n",
        "            self.first_node = new_node\n",
        "            self.last_node = new_node\n",
        "        else:\n",
        "            self.last_node.next_node = new_node\n",
        "            self.last_node = new_node\n",
        "\n",
        "def is_prime_number(number):\n",
        "    if number < 2:\n",
        "        return False\n",
        "    for i in range(2, int(number ** 0.5) + 1):\n",
        "        if number % i == 0:\n",
        "            return False\n",
        "    return True\n",
        "\n",
        "prime_numbers = LinkedList()\n",
        "\n",
        "for num in range(1, 21):\n",
        "    if is_prime_number(num):\n",
        "        prime_numbers.add_node(num)\n",
        "\n",
        "current_node = prime_numbers.first_node\n",
        "while current_node:\n",
        "    print(current_node.value, end=\" \")\n",
        "    current_node = current_node.next_node\n",
        "\n",
        "if prime_numbers.first_node:\n",
        "    print(\"\\nHead:\", prime_numbers.first_node.value)\n",
        "if prime_numbers.last_node:\n",
        "    print(\"Tails:\", prime_numbers.last_node.value)\n"
      ],
      "metadata": {
        "colab": {
          "base_uri": "https://localhost:8080/"
        },
        "id": "Q0eGLLZLd5v0",
        "outputId": "1c642e1f-00ad-4fe1-f8ff-919ac8a58657"
      },
      "execution_count": 4,
      "outputs": [
        {
          "output_type": "stream",
          "name": "stdout",
          "text": [
            "2 3 5 7 11 13 17 19 \n",
            "Head: 2\n",
            "Tails: 19\n"
          ]
        }
      ]
    }
  ]
}