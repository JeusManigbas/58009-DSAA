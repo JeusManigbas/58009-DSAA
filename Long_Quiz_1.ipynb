{
  "nbformat": 4,
  "nbformat_minor": 0,
  "metadata": {
    "colab": {
      "provenance": [],
      "authorship_tag": "ABX9TyNT5v7dOsNwHEig2pNgG1/9",
      "include_colab_link": true
    },
    "kernelspec": {
      "name": "python3",
      "display_name": "Python 3"
    },
    "language_info": {
      "name": "python"
    }
  },
  "cells": [
    {
      "cell_type": "markdown",
      "metadata": {
        "id": "view-in-github",
        "colab_type": "text"
      },
      "source": [
        "<a href=\"https://colab.research.google.com/github/JeusManigbas/58009-DSAA/blob/main/Long_Quiz_1.ipynb\" target=\"_parent\"><img src=\"https://colab.research.google.com/assets/colab-badge.svg\" alt=\"Open In Colab\"/></a>"
      ]
    },
    {
      "cell_type": "markdown",
      "source": [
        "1. Create a python or C++ program that appends each character of your full name and displays each character in reverse order (50 points)"
      ],
      "metadata": {
        "id": "QbRNoUSb8Pcn"
      }
    },
    {
      "cell_type": "code",
      "source": [
        "reversed_name = []\n",
        "\n",
        "full_name = \"Jeus Manigbas\"\n",
        "for char in reversed(full_name):\n",
        "    reversed_name.append(char)\n",
        "\n",
        "for char in reversed_name:\n",
        "    print(char)"
      ],
      "metadata": {
        "colab": {
          "base_uri": "https://localhost:8080/"
        },
        "id": "FmBYQk6m6Igh",
        "outputId": "9475dccb-d232-4033-c7a0-115bb42d9a5f"
      },
      "execution_count": 23,
      "outputs": [
        {
          "output_type": "stream",
          "name": "stdout",
          "text": [
            "s\n",
            "a\n",
            "b\n",
            "g\n",
            "i\n",
            "n\n",
            "a\n",
            "M\n",
            " \n",
            "s\n",
            "u\n",
            "e\n",
            "J\n"
          ]
        }
      ]
    },
    {
      "cell_type": "markdown",
      "source": [
        "2. Using the set of positive whole numbers from 1 to 10, create a python or C++ program that displays if it is prime or composite. (50 points)"
      ],
      "metadata": {
        "id": "-SOHWUCs8TFd"
      }
    },
    {
      "cell_type": "code",
      "source": [
        "def is_prime(n):\n",
        "    if n <= 1:\n",
        "        return False\n",
        "    if n <= 3:\n",
        "        return True\n",
        "    if n % 2 == 0 or n % 3 == 0:\n",
        "        return False\n",
        "    i = 5\n",
        "    while i * i <= n:\n",
        "        if n % i == 0:\n",
        "            return False\n",
        "        i += 6\n",
        "    return True\n",
        "\n",
        "for number in range(1, 11):\n",
        "    type = \"prime\" if is_prime(number) else \"composite\"\n",
        "    print(f\"Number {number} is a {type}.\")\n"
      ],
      "metadata": {
        "colab": {
          "base_uri": "https://localhost:8080/"
        },
        "id": "LMG325hK8Oaf",
        "outputId": "262ee589-1f79-4ec6-8a7d-dd7f1a3afc38"
      },
      "execution_count": 31,
      "outputs": [
        {
          "output_type": "stream",
          "name": "stdout",
          "text": [
            "Number 1 is a composite.\n",
            "Number 2 is a prime.\n",
            "Number 3 is a prime.\n",
            "Number 4 is a composite.\n",
            "Number 5 is a prime.\n",
            "Number 6 is a composite.\n",
            "Number 7 is a prime.\n",
            "Number 8 is a composite.\n",
            "Number 9 is a composite.\n",
            "Number 10 is a composite.\n"
          ]
        }
      ]
    }
  ]
}